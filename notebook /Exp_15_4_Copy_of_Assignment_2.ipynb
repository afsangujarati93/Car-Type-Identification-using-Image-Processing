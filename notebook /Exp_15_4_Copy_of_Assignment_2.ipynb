{
  "nbformat": 4,
  "nbformat_minor": 0,
  "metadata": {
    "colab": {
      "name": "Exp 14 4 Copy of Assignment 2.ipynb",
      "version": "0.3.2",
      "provenance": [],
      "collapsed_sections": []
    },
    "kernelspec": {
      "name": "python3",
      "display_name": "Python 3"
    },
    "accelerator": "GPU"
  },
  "cells": [
    {
      "metadata": {
        "id": "f0ayvowQNK3C",
        "colab_type": "text"
      },
      "cell_type": "markdown",
      "source": [
        "#Referred Material\n",
        "\n",
        "**-Loading and transforming data **\n",
        "\n",
        "https://pytorch.org/tutorials/beginner/data_loading_tutorial.html\n",
        "\n",
        "\n",
        "-**Intro to pytorch **\n",
        "\n",
        "https://medium.com/ml2vec/intro-to-pytorch-with-image-classification-on-a-fashion-clothes-dataset-e589682df0c5\n",
        "\n",
        "\n",
        "-**Image preprocessing over view: **\n",
        "\n",
        "https://becominghuman.ai/image-data-pre-processing-for-neural-networks-498289068258\n",
        " \n",
        " (*Try this*) https://pytorch.org/docs/stable/torchvision/transforms.html\n",
        " \n",
        " (*Try this*) https://jdhao.github.io/2017/11/06/resize-image-to-square-with-padding/\n",
        " \n",
        " -**List of things to try w.r.t pre-processing**\n",
        " \n",
        "\n",
        "*   Square images + batch size 10  (**Done**)\n",
        "*   Square images + bw + batch size 100 (**Done**)\n",
        "*   Square images + batch size 100  (**Done**)\n",
        "*   Random flips and rotation  (**Done**)\n",
        "*   Five crop images + batch size 100  (**Done**)\n",
        "*   Other transformation techniques  (**Done**)\n",
        "*   Without normalization  (**Done**)\n",
        "\n",
        "\n",
        "\n",
        "\n",
        "\n",
        "\n",
        "\n",
        "\n",
        "\n",
        "\n"
      ]
    },
    {
      "metadata": {
        "id": "m29L6L_EYtQt",
        "colab_type": "text"
      },
      "cell_type": "markdown",
      "source": [
        "####Mounting the google drive for loading Dataset sand saving other files"
      ]
    },
    {
      "metadata": {
        "id": "kiT0P1Zh0T4O",
        "colab_type": "code",
        "outputId": "f5141dc9-f69d-421c-a4b9-360714d8a1de",
        "colab": {
          "base_uri": "https://localhost:8080/",
          "height": 34
        }
      },
      "cell_type": "code",
      "source": [
        "\n",
        "from google.colab import drive\n",
        "drive.mount('/content/gdrive')"
      ],
      "execution_count": 1,
      "outputs": [
        {
          "output_type": "stream",
          "text": [
            "Drive already mounted at /content/gdrive; to attempt to forcibly remount, call drive.mount(\"/content/gdrive\", force_remount=True).\n"
          ],
          "name": "stdout"
        }
      ]
    },
    {
      "metadata": {
        "id": "8eJz_lmGZDF4",
        "colab_type": "text"
      },
      "cell_type": "markdown",
      "source": [
        "####Installing and loading necessary modules"
      ]
    },
    {
      "metadata": {
        "id": "cm10GhyJpdgz",
        "colab_type": "code",
        "colab": {}
      },
      "cell_type": "code",
      "source": [
        "%%script false \n",
        "!pip install torch\n",
        "!pip install torchvision\n",
        "!pip install --no-cache-dir -I pillow"
      ],
      "execution_count": 0,
      "outputs": []
    },
    {
      "metadata": {
        "id": "L5xPhzElgxSe",
        "colab_type": "code",
        "colab": {}
      },
      "cell_type": "code",
      "source": [
        "\n",
        "import torch \n",
        "import torch.nn as nn\n",
        "import torchvision.datasets as dsets\n",
        "from skimage import transform\n",
        "import torchvision.transforms as transforms\n",
        "from torch.autograd import Variable\n",
        "import pandas as pd;\n",
        "import numpy as np;\n",
        "from torch.utils.data import Dataset, DataLoader\n",
        "import random;\n",
        "import math;\n",
        "import matplotlib.pyplot as plt\n",
        "from skimage import io, transform\n",
        "from IPython.display import clear_output, display\n",
        "import torch\n",
        "from torchvision import transforms, datasets\n",
        "import torchvision.transforms.functional as F\n",
        "from PIL import Image\n",
        "import cv2\n",
        "import pickle\n",
        "import torchvision.models as models"
      ],
      "execution_count": 0,
      "outputs": []
    },
    {
      "metadata": {
        "id": "aQHizK52OvDl",
        "colab_type": "code",
        "outputId": "d42bb390-ffc0-479e-a6dc-f20c534fda25",
        "colab": {
          "base_uri": "https://localhost:8080/",
          "height": 34
        }
      },
      "cell_type": "code",
      "source": [
        "\n",
        "device = torch.device('cuda:0' if torch.cuda.is_available() else 'cpu')\n",
        "print(device)\n"
      ],
      "execution_count": 4,
      "outputs": [
        {
          "output_type": "stream",
          "text": [
            "cuda:0\n"
          ],
          "name": "stdout"
        }
      ]
    },
    {
      "metadata": {
        "id": "JMN54-l0Y2Zt",
        "colab_type": "text"
      },
      "cell_type": "markdown",
      "source": [
        "####Loading Dataset to pandas dataframe and splitting it into train, test and validation sets"
      ]
    },
    {
      "metadata": {
        "id": "jpn74UIA1LG-",
        "colab_type": "code",
        "outputId": "a2076611-cefd-4d66-8880-405c24d10b68",
        "colab": {
          "base_uri": "https://localhost:8080/",
          "height": 425
        }
      },
      "cell_type": "code",
      "source": [
        "# with open('/content/gdrive/My Drive/Dal Masters/CSCI 6515 - ML for Big Data/Assignment 2/Data/train_corrected/train_cars.csv', 'r') as f:\n",
        "#   print(f.read())  \n",
        "\n",
        "file_dir = \"/content/gdrive/My Drive/Dal Masters/CSCI 6515 - ML for Big Data/Assignment 2/Data/train_corrected/\"\n",
        "img_dir = file_dir + \"train/\"\n",
        "sq_img_dir = file_dir + \"train_sq/\"\n",
        "file_name = file_dir + \"train_cars.csv\"\n",
        "sep_datasets = file_dir + \"sep datasets/\"\n",
        "\n",
        "import pandas as pd\n",
        "import numpy as np\n",
        "from sklearn.model_selection import train_test_split\n",
        "\n",
        "df_entire_dataset = pd.read_csv(file_name)\n",
        "\n",
        "print(df_entire_dataset.columns)\n",
        "unique_car_type = df_entire_dataset.target.unique()\n",
        "\n",
        "print(unique_car_type)\n",
        "\n",
        "unique_car_type_dict = {}\n",
        "df_entire_dataset[\"num_target\"] = df_entire_dataset[\"target\"]\n",
        "for index, per_car_type in enumerate(unique_car_type):\n",
        "  df_entire_dataset[\"num_target\"] = df_entire_dataset[\"num_target\"].replace(per_car_type, index)\n",
        "\n",
        "# print(df_entire_dataset)\n",
        "train_valid, test = train_test_split(df_entire_dataset, test_size=0.05, random_state =10, stratify=df_entire_dataset[\"num_target\"])\n",
        "train, valid = train_test_split(train_valid, test_size=0.05, random_state=10, stratify=train_valid[\"num_target\"])\n",
        "\n",
        "train.reset_index(inplace = True, drop=True)\n",
        "valid.reset_index(inplace = True, drop=True)\n",
        "test.reset_index(inplace = True, drop=True)\n",
        "\n",
        "train_data_file = sep_datasets + \"train_dataset.csv\"\n",
        "train.to_csv(train_data_file)\n",
        "valid_data_file = sep_datasets + \"valid_dataset.csv\"\n",
        "valid.to_csv(valid_data_file)\n",
        "test_data_file = sep_datasets + \"test_dataset.csv\"\n",
        "test.to_csv(test_data_file)\n",
        "\n",
        "\n",
        "print(df_entire_dataset.groupby(\"target\").size())\n",
        "# print(train.groupby(\"target\").size())\n",
        "# print(valid.groupby(\"target\").size())\n",
        "# print(test.groupby(\"target\").size())\n",
        "print(train.size)\n",
        "print(valid.size)\n",
        "print(test.size)\n"
      ],
      "execution_count": 5,
      "outputs": [
        {
          "output_type": "stream",
          "text": [
            "Index(['image_name', 'target'], dtype='object')\n",
            "['sedan' 'truck' 'dedicated agricultural vehicle' 'jeep' 'crane truck'\n",
            " 'prime mover' 'cement mixer' 'hatchback' 'minivan' 'pickup' 'van'\n",
            " 'light truck' 'bus' 'tanker' 'minibus']\n",
            "target\n",
            "bus                                 53\n",
            "cement mixer                        17\n",
            "crane truck                         16\n",
            "dedicated agricultural vehicle       5\n",
            "hatchback                         3080\n",
            "jeep                               865\n",
            "light truck                        164\n",
            "minibus                             25\n",
            "minivan                            586\n",
            "pickup                             435\n",
            "prime mover                         44\n",
            "sedan                             5783\n",
            "tanker                               3\n",
            "truck                              179\n",
            "van                                362\n",
            "dtype: int64\n",
            "31452\n",
            "1656\n",
            "1743\n"
          ],
          "name": "stdout"
        }
      ]
    },
    {
      "metadata": {
        "id": "pKm-1x3KZLsE",
        "colab_type": "text"
      },
      "cell_type": "markdown",
      "source": [
        "####Class to load and transform the dataset"
      ]
    },
    {
      "metadata": {
        "id": "LRWlulvT6gB_",
        "colab_type": "code",
        "colab": {}
      },
      "cell_type": "code",
      "source": [
        "#referred from https://pytorch.org/tutorials/beginner/data_loading_tutorial.html\n",
        "class CarTypeDataset(Dataset):\n",
        "    \"\"\"Face Landmarks dataset.\"\"\"\n",
        "\n",
        "    def __init__(self, pd_dataframe, root_dir, transform=None, sq_image = False, image_channel = \"RGB\", find_edges = False):\n",
        "        \"\"\"\n",
        "        Args:\n",
        "            pd_dataframe (dataframe): Pandas dataframe with the respectve data\n",
        "            root_dir (string): Directory with all the images.\n",
        "            transform (callable, optional): Optional transform to be applied\n",
        "                on a sample.\n",
        "        \"\"\"\n",
        "        self.cartype_frame = pd_dataframe\n",
        "        self.root_dir = root_dir\n",
        "        self.transform = transform\n",
        "        self.sq_image = sq_image\n",
        "        self.image_channel = image_channel\n",
        "        self.find_edges = find_edges\n",
        "\n",
        "    def __len__(self):\n",
        "        return len(self.cartype_frame)\n",
        "\n",
        "    def __getitem__(self, idx):\n",
        "        img_name = self.root_dir + self.cartype_frame.iloc[idx, 0]\n",
        "        # read the image which returns numerical transformation of image plot using plt.imshow\n",
        "        \n",
        "        image = io.imread(img_name)\n",
        "        actual_image = image \n",
        "        \n",
        "        if self.find_edges: \n",
        "          image = cv2.Canny(image,10,100, L2gradient= True)\n",
        "          \n",
        "        \n",
        "        pil_image = Image.fromarray(image)\n",
        "        \n",
        "        if self.sq_image: \n",
        "          pil_image = CarTypeDataset.make_square(pil_image)\n",
        "        \n",
        "#         if self.image_channel:\n",
        "        pil_image = pil_image.convert(self.image_channel)\n",
        "\n",
        "        image = pil_image\n",
        "        num_car_type = self.cartype_frame.iloc[idx, 2]\n",
        "        car_type = self.cartype_frame.iloc[idx, 1]\n",
        "\n",
        "        if self.transform:\n",
        "            image = self.transform(image)\n",
        "            \n",
        "        sample = {'image': image, 'label': num_car_type}\n",
        "\n",
        "        return sample\n",
        "\n",
        "\n",
        "    def make_square(im, min_size=80, fill_color=(0, 0, 0, 0)):\n",
        "        x, y = im.size\n",
        "        min_size = x if x > y else y \n",
        "        size = max(min_size, x, y)\n",
        "        new_im = Image.new('RGB', (size, size), fill_color)\n",
        "        val_x = int((size - x) / 2)\n",
        "        val_y = int((size - y) / 2)\n",
        "\n",
        "        new_im.paste(im, (val_x, val_y))\n",
        "        return new_im"
      ],
      "execution_count": 0,
      "outputs": []
    },
    {
      "metadata": {
        "id": "Z_dCHX5hXP-i",
        "colab_type": "text"
      },
      "cell_type": "markdown",
      "source": [
        "####Calculating Mean and Standard Deviation across all the train images data\n",
        "\n",
        "(Outputs are commented below the print statements)"
      ]
    },
    {
      "metadata": {
        "id": "37RiX6XnU9Y2",
        "colab_type": "code",
        "colab": {}
      },
      "cell_type": "code",
      "source": [
        "%%script false \n",
        "composed = transforms.Compose([\n",
        "        transforms.ToTensor()\n",
        "    ])\n",
        "\n",
        "\n",
        "car_type_train = CarTypeDataset(pd_dataframe=train,\n",
        "                                    root_dir=img_dir,\n",
        "                                    transform = composed)\n",
        "\n",
        "\n",
        "tensor_mean_list = []\n",
        "tensor_std_list = []\n",
        "\n",
        "for index in range(0,len(car_type_train)):\n",
        "#   print(str(index) + \" of \" + str(len(car_type_train)))\n",
        "  this_car_type = car_type_train[index]\n",
        "  this_mean = this_car_type[\"image\"].mean(1).mean(1)\n",
        "  this_std = this_car_type[\"image\"].std(1).std(1)\n",
        "  if index % 1000 == 0:\n",
        "    print(str(index) + \" of \" + str(len(car_type_train)))\n",
        "    \n",
        "    print(this_mean)\n",
        "    print(this_std)\n",
        "  tensor_mean_list.append(this_mean)\n",
        "  tensor_std_list.append(this_std)\n",
        "  \n",
        "tensor_mean_tuple = tuple(tensor_mean_list)\n",
        "tensor_std_tuple = tuple(tensor_std_list)\n",
        "\n",
        "# print(tensor_mean_tuple)\n",
        "\n",
        "image_means = torch.stack(tensor_mean_tuple)\n",
        "print(image_means.mean(0))\n",
        "# tensor([0.4961, 0.5154, 0.5685])\n",
        "\n",
        "image_std = torch.stack(tensor_std_tuple)\n",
        "print(image_std.mean(0))\n",
        "# tensor([0.0538, 0.0556, 0.0510])\n"
      ],
      "execution_count": 0,
      "outputs": []
    },
    {
      "metadata": {
        "id": "TSqClVOB3MBo",
        "colab_type": "text"
      },
      "cell_type": "markdown",
      "source": [
        "####Edge Dectection Sample Code\n",
        "(The sample outputs are included in the report)"
      ]
    },
    {
      "metadata": {
        "id": "B3yhsGxR3JIJ",
        "colab_type": "code",
        "colab": {}
      },
      "cell_type": "code",
      "source": [
        "%%script false \n",
        "import cv2\n",
        "import numpy as np\n",
        "from matplotlib import pyplot as plt\n",
        "from random import * \n",
        "\n",
        "def plot_edges(car_type):\n",
        "\n",
        "  car_type_df = train.loc[train['target'] == car_type]\n",
        "  car_img = car_type_df.iloc[randint(0,len(car_type_df))]\n",
        "  image = car_img[\"image_name\"]\n",
        "  img_name = img_dir + image\n",
        "  io_image  = io.imread(img_name)\n",
        "  print(type(io_image))\n",
        "\n",
        "  edges_1 = cv2.Canny(io_image,10,100, L2gradient= True)\n",
        "\n",
        "  plt.subplot(121),plt.imshow(edges_1)\n",
        "  plt.title('Edge Image ' + car_type), plt.xticks([]), plt.yticks([])\n",
        "  plt.subplot(122)\n",
        "  plt.imshow(io_image)\n",
        "  plt.title('Oriignal Image ' + car_type), plt.xticks([]), plt.yticks([])\n",
        "\n",
        "  plt.show()\n",
        "  \n",
        "  \n",
        "plot_edges(\"sedan\")\n",
        "plot_edges(\"truck\")\n",
        "plot_edges(\"jeep\")"
      ],
      "execution_count": 0,
      "outputs": []
    },
    {
      "metadata": {
        "id": "aB3dw_BUK1or",
        "colab_type": "code",
        "colab": {}
      },
      "cell_type": "code",
      "source": [
        "# model_extra_char = input(\"Enter experiment Number ..\")\n",
        "model_extra_char = \"14\"\n",
        "\n",
        "num_epochs = 90;\n",
        "batch_size = 10;\n",
        "learning_rate = 0.001;\n",
        "find_edges = False\n",
        "in_kernel_size = (5,5)\n",
        "hd_kernel_size = (5,5)\n",
        "neuron_count = 32\n",
        "max_neuron_count = 2\n",
        "cnv_count = 5\n",
        "full_count = 3\n",
        "\n",
        "sq_image = False\n",
        "greatest_valid_acc_score = 0\n",
        "\n",
        "\n",
        "# model_extra_char = input(\"Enter that extra character to apply to the best model name\")\n",
        "model_save_path = file_dir + \"models/model_file_experiment_\"  + str(model_extra_char) +\".model\"\n",
        "losses_save_path = file_dir + \"losses/losses_file_experiment_\" + str(model_extra_char) +\".csv\"\n",
        "#72 x 30\n",
        "resize_height = 224\n",
        "resize_width = 224\n",
        "rotation_degree= 10\n",
        "#           transforms.RandomRotation(rotation_degree),\n",
        "#           transforms.RandomHorizontalFlip(),\n",
        "#           transforms.RandomVerticalFlip(),\n",
        "#           transforms.Normalize((0.4961, 0.5154, 0.5685), (0.0538, 0.0556, 0.0510))\n",
        "if find_edges:\n",
        "  data_transform = transforms.Compose([\n",
        "          transforms.Resize((resize_height,resize_width)),\n",
        "\n",
        "\n",
        "          transforms.ToTensor()\n",
        "\n",
        "      ])\n",
        "else:\n",
        "  data_transform = transforms.Compose([\n",
        "          transforms.Resize((resize_height,resize_width)),\n",
        "          transforms.RandomCrop((resize_height,resize_width)),\n",
        "          transforms.ToTensor(),\n",
        "          transforms.Normalize((0.4961, 0.5154, 0.5685), (0.0538, 0.0556, 0.0510))\n",
        "      ])\n",
        "\n",
        "\n",
        "car_type_train_norm = CarTypeDataset(pd_dataframe=train,\n",
        "                                    root_dir=img_dir,\n",
        "                                    transform = data_transform, \n",
        "                                    sq_image = sq_image, \n",
        "                                    find_edges = find_edges)\n",
        "\n",
        "\n",
        "dataset_loader = torch.utils.data.DataLoader(car_type_train_norm,\n",
        "                                             batch_size=batch_size, shuffle=True,\n",
        "                                             num_workers=12)\n",
        "\n"
      ],
      "execution_count": 0,
      "outputs": []
    },
    {
      "metadata": {
        "id": "LzPN8EchhjzB",
        "colab_type": "code",
        "colab": {}
      },
      "cell_type": "code",
      "source": [
        "class CNN(nn.Module):\n",
        "    def __init__(self):\n",
        "        super(CNN, self).__init__()\n",
        "          \n",
        "        self.layer1 = nn.Sequential(\n",
        "            nn.Conv2d(3, neuron_count, kernel_size=in_kernel_size, stride=1, padding=2),\n",
        "            nn.ReLU(),\n",
        "            nn.BatchNorm2d(neuron_count),\n",
        "            nn.MaxPool2d(max_neuron_count))\n",
        "  \n",
        "        self.layer_hd = nn.Sequential(\n",
        "            nn.Conv2d(neuron_count, neuron_count, kernel_size=hd_kernel_size, stride=1, padding=2),\n",
        "            nn.BatchNorm2d(neuron_count),\n",
        "            nn.ReLU(),\n",
        "            nn.MaxPool2d(max_neuron_count))\n",
        "\n",
        "        self.fcS = nn.Linear(64, neuron_count)\n",
        "        self.fc_c = nn.Linear(neuron_count, neuron_count)      \n",
        "        self.fcL = nn.Linear(neuron_count, 15)\n",
        "        \n",
        "    def forward(self, x, cnv_count= 1, full_count = 2):\n",
        "        out = self.layer1(x)     #1 \n",
        "        \n",
        "        for i in range(cnv_count-1):\n",
        "          out = self.layer_hd(out) #2\n",
        "        \n",
        "        out = out.view(out.size(0), -1)\n",
        "    \n",
        "        out = self.fcS(out)  #First\n",
        "        for i in range(full_count-2):\n",
        "          out = self.fc_c(out) #1\n",
        "\n",
        "        out = self.fcL(out)  #Last\n",
        "        return out"
      ],
      "execution_count": 0,
      "outputs": []
    },
    {
      "metadata": {
        "id": "3uGZHD17hmVD",
        "colab_type": "code",
        "colab": {}
      },
      "cell_type": "code",
      "source": [
        "#instance of the Conv Net\n",
        "# cnn = CNN()\n",
        "cnn = models.resnet18(pretrained=True);\n",
        "cnn.to(device)\n",
        "#loss function and optimizer\n",
        "criterion = nn.CrossEntropyLoss();\n",
        "optimizer = torch.optim.Adam(cnn.parameters(), lr=learning_rate);"
      ],
      "execution_count": 0,
      "outputs": []
    },
    {
      "metadata": {
        "id": "16kZUe0Axb30",
        "colab_type": "code",
        "colab": {}
      },
      "cell_type": "code",
      "source": [
        "\n",
        "def valid_score(greatest_valid_acc_score, cnn, data_transform):\n",
        "  car_type_valid_norm = CarTypeDataset(pd_dataframe=valid,\n",
        "                                      root_dir=img_dir,\n",
        "                                      transform = data_transform,\n",
        "                                       sq_image = sq_image, \n",
        "                                      find_edges = find_edges\n",
        "                                      )\n",
        "\n",
        "  valid_loader = torch.utils.data.DataLoader(car_type_valid_norm,\n",
        "                                               batch_size=batch_size, shuffle=True,\n",
        "                                               num_workers=8)\n",
        "  cnn.eval()\n",
        "  correct = 0\n",
        "  total = 0\n",
        "  for i, this_loader in enumerate(valid_loader):\n",
        "      images = Variable(this_loader[\"image\"]).to(device)\n",
        "#       outputs = cnn(images, cnv_count, full_count)\n",
        "      outputs = cnn(images)\n",
        "      _, predicted = torch.max(outputs.data, 1)\n",
        "      total += this_loader[\"label\"].size(0)\n",
        "      correct += (predicted == this_loader[\"label\"].to(device)).sum()\n",
        "    \n",
        "  this_acc_score = (100 * correct / total)\n",
        "  if this_acc_score > greatest_valid_acc_score:\n",
        "    greatest_valid_acc_score = this_acc_score\n",
        "    torch.save(cnn, model_save_path)\n",
        "    print(\"Saved the model to \" + model_save_path)\n",
        "  print('Test Accuracy of the model on the %i test images: %.4f %%' % (len(car_type_valid_norm), this_acc_score) )\n",
        "  return this_acc_score, greatest_valid_acc_score"
      ],
      "execution_count": 0,
      "outputs": []
    },
    {
      "metadata": {
        "id": "AGVb6d9-IvXm",
        "colab_type": "code",
        "colab": {
          "base_uri": "https://localhost:8080/",
          "height": 2289
        },
        "outputId": "56978f4a-52ff-46ed-fb13-65681e59651c"
      },
      "cell_type": "code",
      "source": [
        "# %%script false \n",
        "\n",
        "valid_score_list = []\n",
        "train_score_list = []\n",
        "print(\"Size Data loader\")\n",
        "print(len(dataset_loader))\n",
        "data_loader_len = len(dataset_loader)\n",
        "losses = [];\n",
        "for epoch in range(num_epochs):\n",
        "    correct = 0\n",
        "    total = 0\n",
        "    for i, this_loader in enumerate(dataset_loader):\n",
        "        images = Variable(this_loader[\"image\"]).to(device)\n",
        "        labels = Variable(this_loader[\"label\"]).to(device)\n",
        "        \n",
        "        # Forward + Backward + Optimize\n",
        "        optimizer.zero_grad()\n",
        "#         outputs = cnn(images, cnv_count, full_count)\n",
        "        outputs = cnn(images)\n",
        "        \n",
        "        _, predicted = torch.max(outputs.data, 1)\n",
        "        total += this_loader[\"label\"].size(0)\n",
        "        correct += (predicted == labels).sum()\n",
        "        \n",
        "        loss = criterion(outputs, labels)\n",
        "        loss.backward()\n",
        "        optimizer.step()\n",
        "        losses.append(loss.data.item());\n",
        "        \n",
        "#         with open(losses_save_path, 'wb') as fp:\n",
        "#           pickle.dump(losses, fp)\n",
        "        \n",
        "       \n",
        "        if (i+1) % int(data_loader_len/3) == 0:\n",
        "            print ('Epoch : %d/%d, Iter : %d/%d,  Loss: %.4f' \n",
        "                   %(epoch+1, num_epochs, i+1, len(train)//batch_size, loss.data.item()))\n",
        "            \n",
        "    train_acc_score = float(100 * correct / total)\n",
        "    if (epoch+1) % 2 == 0:\n",
        "      train_score_list.append(train_acc_score)\n",
        "      valid_acc_score, greatest_valid_acc_score  =  valid_score(greatest_valid_acc_score, cnn, data_transform)\n",
        "      valid_acc_score = float(valid_acc_score)\n",
        "      valid_score_list.append(valid_acc_score)\n",
        "      print(\"TRAIN ACCURACY: \" + str(train_acc_score))\n",
        "      print(\"VALIDATION ACCURACY: \" + str(valid_acc_score))\n",
        "      \n",
        "          \n",
        "    "
      ],
      "execution_count": 13,
      "outputs": [
        {
          "output_type": "stream",
          "text": [
            "Size Data loader\n",
            "1049\n",
            "Epoch : 1/90, Iter : 349/1048,  Loss: 1.4269\n",
            "Epoch : 1/90, Iter : 698/1048,  Loss: 0.6984\n",
            "Epoch : 1/90, Iter : 1047/1048,  Loss: 1.3331\n",
            "Epoch : 2/90, Iter : 349/1048,  Loss: 1.2946\n",
            "Epoch : 2/90, Iter : 698/1048,  Loss: 1.3769\n",
            "Epoch : 2/90, Iter : 1047/1048,  Loss: 1.2130\n",
            "Saved the model to /content/gdrive/My Drive/Dal Masters/CSCI 6515 - ML for Big Data/Assignment 2/Data/train_corrected/models/model_file_experiment_14.model\n",
            "Test Accuracy of the model on the 552 test images: 61.0000 %\n",
            "TRAIN ACCURACY: 64.0\n",
            "VALIDATION ACCURACY: 61.0\n",
            "Epoch : 3/90, Iter : 349/1048,  Loss: 0.6959\n",
            "Epoch : 3/90, Iter : 698/1048,  Loss: 1.7288\n",
            "Epoch : 3/90, Iter : 1047/1048,  Loss: 1.1507\n",
            "Epoch : 4/90, Iter : 349/1048,  Loss: 1.8321\n",
            "Epoch : 4/90, Iter : 698/1048,  Loss: 0.4665\n",
            "Epoch : 4/90, Iter : 1047/1048,  Loss: 1.0710\n",
            "Saved the model to /content/gdrive/My Drive/Dal Masters/CSCI 6515 - ML for Big Data/Assignment 2/Data/train_corrected/models/model_file_experiment_14.model\n",
            "Test Accuracy of the model on the 552 test images: 65.0000 %\n",
            "TRAIN ACCURACY: 67.0\n",
            "VALIDATION ACCURACY: 65.0\n",
            "Epoch : 5/90, Iter : 349/1048,  Loss: 0.7116\n",
            "Epoch : 5/90, Iter : 698/1048,  Loss: 0.9372\n",
            "Epoch : 5/90, Iter : 1047/1048,  Loss: 1.3114\n",
            "Epoch : 6/90, Iter : 349/1048,  Loss: 1.5603\n",
            "Epoch : 6/90, Iter : 698/1048,  Loss: 1.1394\n",
            "Epoch : 6/90, Iter : 1047/1048,  Loss: 1.0149\n",
            "Saved the model to /content/gdrive/My Drive/Dal Masters/CSCI 6515 - ML for Big Data/Assignment 2/Data/train_corrected/models/model_file_experiment_14.model\n",
            "Test Accuracy of the model on the 552 test images: 69.0000 %\n",
            "TRAIN ACCURACY: 71.0\n",
            "VALIDATION ACCURACY: 69.0\n",
            "Epoch : 7/90, Iter : 349/1048,  Loss: 0.6108\n",
            "Epoch : 7/90, Iter : 698/1048,  Loss: 0.9375\n",
            "Epoch : 7/90, Iter : 1047/1048,  Loss: 0.7131\n",
            "Epoch : 8/90, Iter : 349/1048,  Loss: 0.7858\n",
            "Epoch : 8/90, Iter : 698/1048,  Loss: 0.5059\n",
            "Epoch : 8/90, Iter : 1047/1048,  Loss: 0.2946\n",
            "Saved the model to /content/gdrive/My Drive/Dal Masters/CSCI 6515 - ML for Big Data/Assignment 2/Data/train_corrected/models/model_file_experiment_14.model\n",
            "Test Accuracy of the model on the 552 test images: 72.0000 %\n",
            "TRAIN ACCURACY: 73.0\n",
            "VALIDATION ACCURACY: 72.0\n",
            "Epoch : 9/90, Iter : 349/1048,  Loss: 0.6068\n",
            "Epoch : 9/90, Iter : 698/1048,  Loss: 0.5253\n",
            "Epoch : 9/90, Iter : 1047/1048,  Loss: 0.8980\n",
            "Epoch : 10/90, Iter : 349/1048,  Loss: 0.8669\n",
            "Epoch : 10/90, Iter : 698/1048,  Loss: 0.4761\n",
            "Epoch : 10/90, Iter : 1047/1048,  Loss: 0.9905\n",
            "Test Accuracy of the model on the 552 test images: 69.0000 %\n",
            "TRAIN ACCURACY: 78.0\n",
            "VALIDATION ACCURACY: 69.0\n",
            "Epoch : 11/90, Iter : 349/1048,  Loss: 0.5625\n",
            "Epoch : 11/90, Iter : 698/1048,  Loss: 0.1780\n",
            "Epoch : 11/90, Iter : 1047/1048,  Loss: 0.5741\n",
            "Epoch : 12/90, Iter : 349/1048,  Loss: 0.0323\n",
            "Epoch : 12/90, Iter : 698/1048,  Loss: 0.4675\n",
            "Epoch : 12/90, Iter : 1047/1048,  Loss: 0.6277\n",
            "Test Accuracy of the model on the 552 test images: 68.0000 %\n",
            "TRAIN ACCURACY: 84.0\n",
            "VALIDATION ACCURACY: 68.0\n",
            "Epoch : 13/90, Iter : 349/1048,  Loss: 0.6116\n",
            "Epoch : 13/90, Iter : 698/1048,  Loss: 0.2346\n",
            "Epoch : 13/90, Iter : 1047/1048,  Loss: 1.0869\n",
            "Epoch : 14/90, Iter : 349/1048,  Loss: 0.9838\n",
            "Epoch : 14/90, Iter : 698/1048,  Loss: 0.0903\n",
            "Epoch : 14/90, Iter : 1047/1048,  Loss: 0.1729\n",
            "Test Accuracy of the model on the 552 test images: 66.0000 %\n",
            "TRAIN ACCURACY: 90.0\n",
            "VALIDATION ACCURACY: 66.0\n",
            "Epoch : 15/90, Iter : 349/1048,  Loss: 0.1326\n",
            "Epoch : 15/90, Iter : 698/1048,  Loss: 0.0882\n",
            "Epoch : 15/90, Iter : 1047/1048,  Loss: 0.0822\n",
            "Epoch : 16/90, Iter : 349/1048,  Loss: 0.4011\n",
            "Epoch : 16/90, Iter : 698/1048,  Loss: 0.0441\n",
            "Epoch : 16/90, Iter : 1047/1048,  Loss: 0.0509\n",
            "Test Accuracy of the model on the 552 test images: 69.0000 %\n",
            "TRAIN ACCURACY: 94.0\n",
            "VALIDATION ACCURACY: 69.0\n",
            "Epoch : 17/90, Iter : 349/1048,  Loss: 0.0100\n",
            "Epoch : 17/90, Iter : 698/1048,  Loss: 0.0006\n",
            "Epoch : 17/90, Iter : 1047/1048,  Loss: 0.2543\n",
            "Epoch : 18/90, Iter : 349/1048,  Loss: 0.0025\n",
            "Epoch : 18/90, Iter : 698/1048,  Loss: 0.0245\n",
            "Epoch : 18/90, Iter : 1047/1048,  Loss: 0.1153\n",
            "Test Accuracy of the model on the 552 test images: 68.0000 %\n",
            "TRAIN ACCURACY: 95.0\n",
            "VALIDATION ACCURACY: 68.0\n",
            "Epoch : 19/90, Iter : 349/1048,  Loss: 0.0999\n",
            "Epoch : 19/90, Iter : 698/1048,  Loss: 0.0158\n",
            "Epoch : 19/90, Iter : 1047/1048,  Loss: 0.0092\n",
            "Epoch : 20/90, Iter : 349/1048,  Loss: 0.5295\n",
            "Epoch : 20/90, Iter : 698/1048,  Loss: 0.0948\n",
            "Epoch : 20/90, Iter : 1047/1048,  Loss: 0.0218\n",
            "Test Accuracy of the model on the 552 test images: 69.0000 %\n",
            "TRAIN ACCURACY: 96.0\n",
            "VALIDATION ACCURACY: 69.0\n",
            "Epoch : 21/90, Iter : 349/1048,  Loss: 0.0021\n",
            "Epoch : 21/90, Iter : 698/1048,  Loss: 0.0150\n",
            "Epoch : 21/90, Iter : 1047/1048,  Loss: 0.0508\n",
            "Epoch : 22/90, Iter : 349/1048,  Loss: 0.0025\n",
            "Epoch : 22/90, Iter : 698/1048,  Loss: 0.0001\n",
            "Epoch : 22/90, Iter : 1047/1048,  Loss: 0.0179\n",
            "Test Accuracy of the model on the 552 test images: 70.0000 %\n",
            "TRAIN ACCURACY: 97.0\n",
            "VALIDATION ACCURACY: 70.0\n",
            "Epoch : 23/90, Iter : 349/1048,  Loss: 0.0003\n",
            "Epoch : 23/90, Iter : 698/1048,  Loss: 0.2122\n",
            "Epoch : 23/90, Iter : 1047/1048,  Loss: 0.0639\n",
            "Epoch : 24/90, Iter : 349/1048,  Loss: 0.0049\n",
            "Epoch : 24/90, Iter : 698/1048,  Loss: 0.0547\n",
            "Epoch : 24/90, Iter : 1047/1048,  Loss: 0.0081\n",
            "Test Accuracy of the model on the 552 test images: 69.0000 %\n",
            "TRAIN ACCURACY: 97.0\n",
            "VALIDATION ACCURACY: 69.0\n"
          ],
          "name": "stdout"
        },
        {
          "output_type": "error",
          "ename": "KeyboardInterrupt",
          "evalue": "ignored",
          "traceback": [
            "\u001b[0;31m---------------------------------------------------------------------------\u001b[0m",
            "\u001b[0;31mKeyboardInterrupt\u001b[0m                         Traceback (most recent call last)",
            "\u001b[0;32m<ipython-input-13-aec3077b3aa8>\u001b[0m in \u001b[0;36m<module>\u001b[0;34m()\u001b[0m\n\u001b[1;32m     24\u001b[0m         \u001b[0mloss\u001b[0m \u001b[0;34m=\u001b[0m \u001b[0mcriterion\u001b[0m\u001b[0;34m(\u001b[0m\u001b[0moutputs\u001b[0m\u001b[0;34m,\u001b[0m \u001b[0mlabels\u001b[0m\u001b[0;34m)\u001b[0m\u001b[0;34m\u001b[0m\u001b[0;34m\u001b[0m\u001b[0m\n\u001b[1;32m     25\u001b[0m         \u001b[0mloss\u001b[0m\u001b[0;34m.\u001b[0m\u001b[0mbackward\u001b[0m\u001b[0;34m(\u001b[0m\u001b[0;34m)\u001b[0m\u001b[0;34m\u001b[0m\u001b[0;34m\u001b[0m\u001b[0m\n\u001b[0;32m---> 26\u001b[0;31m         \u001b[0moptimizer\u001b[0m\u001b[0;34m.\u001b[0m\u001b[0mstep\u001b[0m\u001b[0;34m(\u001b[0m\u001b[0;34m)\u001b[0m\u001b[0;34m\u001b[0m\u001b[0;34m\u001b[0m\u001b[0m\n\u001b[0m\u001b[1;32m     27\u001b[0m         \u001b[0mlosses\u001b[0m\u001b[0;34m.\u001b[0m\u001b[0mappend\u001b[0m\u001b[0;34m(\u001b[0m\u001b[0mloss\u001b[0m\u001b[0;34m.\u001b[0m\u001b[0mdata\u001b[0m\u001b[0;34m.\u001b[0m\u001b[0mitem\u001b[0m\u001b[0;34m(\u001b[0m\u001b[0;34m)\u001b[0m\u001b[0;34m)\u001b[0m\u001b[0;34m;\u001b[0m\u001b[0;34m\u001b[0m\u001b[0;34m\u001b[0m\u001b[0m\n\u001b[1;32m     28\u001b[0m \u001b[0;34m\u001b[0m\u001b[0m\n",
            "\u001b[0;32m/usr/local/lib/python3.6/dist-packages/torch/optim/adam.py\u001b[0m in \u001b[0;36mstep\u001b[0;34m(self, closure)\u001b[0m\n\u001b[1;32m     92\u001b[0m                 \u001b[0;31m# Decay the first and second moment running average coefficient\u001b[0m\u001b[0;34m\u001b[0m\u001b[0;34m\u001b[0m\u001b[0;34m\u001b[0m\u001b[0m\n\u001b[1;32m     93\u001b[0m                 \u001b[0mexp_avg\u001b[0m\u001b[0;34m.\u001b[0m\u001b[0mmul_\u001b[0m\u001b[0;34m(\u001b[0m\u001b[0mbeta1\u001b[0m\u001b[0;34m)\u001b[0m\u001b[0;34m.\u001b[0m\u001b[0madd_\u001b[0m\u001b[0;34m(\u001b[0m\u001b[0;36m1\u001b[0m \u001b[0;34m-\u001b[0m \u001b[0mbeta1\u001b[0m\u001b[0;34m,\u001b[0m \u001b[0mgrad\u001b[0m\u001b[0;34m)\u001b[0m\u001b[0;34m\u001b[0m\u001b[0;34m\u001b[0m\u001b[0m\n\u001b[0;32m---> 94\u001b[0;31m                 \u001b[0mexp_avg_sq\u001b[0m\u001b[0;34m.\u001b[0m\u001b[0mmul_\u001b[0m\u001b[0;34m(\u001b[0m\u001b[0mbeta2\u001b[0m\u001b[0;34m)\u001b[0m\u001b[0;34m.\u001b[0m\u001b[0maddcmul_\u001b[0m\u001b[0;34m(\u001b[0m\u001b[0;36m1\u001b[0m \u001b[0;34m-\u001b[0m \u001b[0mbeta2\u001b[0m\u001b[0;34m,\u001b[0m \u001b[0mgrad\u001b[0m\u001b[0;34m,\u001b[0m \u001b[0mgrad\u001b[0m\u001b[0;34m)\u001b[0m\u001b[0;34m\u001b[0m\u001b[0;34m\u001b[0m\u001b[0m\n\u001b[0m\u001b[1;32m     95\u001b[0m                 \u001b[0;32mif\u001b[0m \u001b[0mamsgrad\u001b[0m\u001b[0;34m:\u001b[0m\u001b[0;34m\u001b[0m\u001b[0;34m\u001b[0m\u001b[0m\n\u001b[1;32m     96\u001b[0m                     \u001b[0;31m# Maintains the maximum of all 2nd moment running avg. till now\u001b[0m\u001b[0;34m\u001b[0m\u001b[0;34m\u001b[0m\u001b[0;34m\u001b[0m\u001b[0m\n",
            "\u001b[0;31mKeyboardInterrupt\u001b[0m: "
          ]
        }
      ]
    },
    {
      "metadata": {
        "id": "DSVlzWTMvgZO",
        "colab_type": "code",
        "colab": {}
      },
      "cell_type": "code",
      "source": [
        "%%script false \n",
        "# model_save_path = file_dir + \"model_file_\" + str(find_edges) + \"_1.model\"\n",
        "model_save_path = file_dir + \"model_file_experiment\"  + str(model_extra_char) +\"_1.model\"\n",
        "torch.save(cnn, model_save_path)\n",
        "print(\"Saved the model to \" + model_save_path)"
      ],
      "execution_count": 0,
      "outputs": []
    },
    {
      "metadata": {
        "id": "usEoTQQA0j-v",
        "colab_type": "code",
        "colab": {
          "base_uri": "https://localhost:8080/",
          "height": 489
        },
        "outputId": "ac1771bf-8a31-42c3-bbb0-ff325428d5f0"
      },
      "cell_type": "code",
      "source": [
        "# %%script false \n",
        "print(len(losses))\n",
        "# losses_in_epochs = losses[0::60]\n",
        "losses_in_epochs = losses\n",
        "# plt.xkcd();\n",
        "plt.rcdefaults()\n",
        "plt.figure();\n",
        "plt.title(\"Experiment \" + str(model_extra_char))\n",
        "plt.xlabel('Iterations #');\n",
        "plt.ylabel('Loss');\n",
        "plt.plot(losses_in_epochs);\n",
        "plt.show();"
      ],
      "execution_count": 14,
      "outputs": [
        {
          "output_type": "stream",
          "text": [
            "25191\n"
          ],
          "name": "stdout"
        },
        {
          "output_type": "display_data",
          "data": {
            "image/png": "[encoded data removed]",
            "text/plain": [
              "<matplotlib.figure.Figure at 0x7f3d05ceee80>"
            ]
          },
          "metadata": {
            "tags": []
          }
        }
      ]
    },
    {
      "metadata": {
        "id": "D6QSrzmFzEes",
        "colab_type": "code",
        "colab": {
          "base_uri": "https://localhost:8080/",
          "height": 489
        },
        "outputId": "66e120d3-2818-4308-acfb-3c6a021b92ff"
      },
      "cell_type": "code",
      "source": [
        "# %%script false \n",
        "print(len(losses))\n",
        "# losses_in_epochs = losses[0::60]\n",
        "losses_in_epochs = losses\n",
        "# plt.xkcd();\n",
        "plt.rcdefaults()\n",
        "plt.figure();\n",
        "plt.title(\"Experiment \" + str(model_extra_char))\n",
        "plt.xlabel('Epochs # (Every 2 Epochs)');\n",
        "plt.ylabel('Accuracy');\n",
        "plt.plot(train_score_list);\n",
        "plt.plot(valid_score_list);\n",
        "plt.legend([\"Training Accuracy\", \"Validation Accuracy\"])\n",
        "plt.show();"
      ],
      "execution_count": 15,
      "outputs": [
        {
          "output_type": "stream",
          "text": [
            "25191\n"
          ],
          "name": "stdout"
        },
        {
          "output_type": "display_data",
          "data": {
            "image/png": "[encoded data removed]",
            "text/plain": [
              "<matplotlib.figure.Figure at 0x7f3d05cee550>"
            ]
          },
          "metadata": {
            "tags": []
          }
        }
      ]
    },
    {
      "metadata": {
        "id": "-qGGKAtgjL2a",
        "colab_type": "code",
        "outputId": "21b25805-16a9-470e-b406-bf0b82725653",
        "colab": {
          "base_uri": "https://localhost:8080/",
          "height": 85
        }
      },
      "cell_type": "code",
      "source": [
        "\n",
        "\n",
        "# cnn = CNN()\n",
        "cnn = models.resnet18(pretrained=True);\n",
        "cnn.to(device)\n",
        "# cnn.load_state_dict(torch.load(model_save_path))\n",
        "loaded_model = torch.load(model_save_path)\n",
        "cnn.load_state_dict(loaded_model.state_dict())\n",
        "\n",
        "\n",
        "car_type_test = CarTypeDataset(pd_dataframe=test,\n",
        "                                    root_dir=img_dir,\n",
        "                                    transform = data_transform,\n",
        "                                     sq_image = sq_image, \n",
        "                                    find_edges = find_edges\n",
        "                                    )\n",
        "\n",
        "test_loader = torch.utils.data.DataLoader(car_type_test,\n",
        "                                             batch_size=batch_size, shuffle=True,\n",
        "                                             num_workers=4)\n",
        "\n",
        "cnn.eval()\n",
        "correct = 0\n",
        "total = 0\n",
        "for i, this_loader in enumerate(test_loader):\n",
        "    images = Variable(this_loader[\"image\"].to(device))\n",
        "#     outputs = cnn(images, cnv_count, full_count)\n",
        "    outputs = cnn(images)\n",
        "    _, predicted = torch.max(outputs.data, 1)\n",
        "    total += this_loader[\"label\"].size(0)\n",
        "    correct += (predicted == this_loader[\"label\"].to(device)).sum()\n",
        "print('Test Accuracy of the model on the %i test images: %.4f %%' % (len(test), (100 * correct / total)))\n",
        "\n",
        "valid_score(valid_acc_score, cnn, data_transform)"
      ],
      "execution_count": 17,
      "outputs": [
        {
          "output_type": "stream",
          "text": [
            "Test Accuracy of the model on the 581 test images: 67.0000 %\n",
            "Saved the model to /content/gdrive/My Drive/Dal Masters/CSCI 6515 - ML for Big Data/Assignment 2/Data/train_corrected/models/model_file_experiment_14.model\n",
            "Test Accuracy of the model on the 552 test images: 72.0000 %\n"
          ],
          "name": "stdout"
        },
        {
          "output_type": "execute_result",
          "data": {
            "text/plain": [
              "(tensor(72, device='cuda:0'), tensor(72, device='cuda:0'))"
            ]
          },
          "metadata": {
            "tags": []
          },
          "execution_count": 17
        }
      ]
    }
  ]
}